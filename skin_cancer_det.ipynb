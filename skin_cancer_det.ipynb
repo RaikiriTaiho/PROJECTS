{
 "cells": [
  {
   "cell_type": "code",
   "execution_count": 16,
   "metadata": {
    "tags": []
   },
   "outputs": [],
   "source": [
    "import os\n",
    "import tkinter as tk\n",
    "from tkinter import Text,filedialog\n",
    "from tkinter import *\n",
    "import matplotlib.pyplot as plt\n",
    "import random\n",
    "import cv2\n",
    "from PIL import Image,ImageTk\n",
    "import numpy as np\n",
    "from keras.models import load_model,save_model,Sequential\n",
    "from keras.layers import Activation,Conv2D,Dense,Dropout,Flatten,MaxPooling2D\n",
    "from keras.preprocessing import image\n",
    "from keras.utils import to_categorical"
   ]
  },
  {
   "cell_type": "code",
   "execution_count": null,
   "metadata": {},
   "outputs": [],
   "source": [
    "center = 112\n",
    "upper_bound, lower_bound = 224, 0\n",
    "pad = 10\n",
    "region_ul, region_ll = 5000, 150\n",
    "thresh_ul, thresh_ll = 255, 127\n",
    "train_data = []\n",
    "test_data = []\n",
    "X_train = []\n",
    "y_train = []\n",
    "X_test = []\n",
    "y_test = []\n",
    "shape = [224,224,3]"
   ]
  },
  {
   "cell_type": "code",
   "execution_count": null,
   "metadata": {},
   "outputs": [],
   "source": [
    "train_dir = 'Desktop/jupyter/skin_cancer_det/cancer data/train'\n",
    "test_dir = 'Desktop/jupyter/skin_cancer_det/cancer data/test'\n",
    "Categories = ['benign','malignant']"
   ]
  },
  {
   "cell_type": "code",
   "execution_count": null,
   "metadata": {},
   "outputs": [],
   "source": [
    "def initialPrepare(img):\n",
    "    blur = cv2.medianBlur(img,5)\n",
    "    img = cv2.cvtColor(blur,cv2.COLOR_BGR2RGB)\n",
    "    gray = cv2.cvtColor(img,cv2.COLOR_RGB2GRAY)\n",
    "    _,thresh = cv2.threshold(gray,thresh_ll,thresh_ul,cv2.THRESH_BINARY_INV)\n",
    "    return thresh"
   ]
  },
  {
   "cell_type": "code",
   "execution_count": null,
   "metadata": {},
   "outputs": [],
   "source": [
    "def findDist(x,y):\n",
    "    X = (center-x)*(center-x)\n",
    "    Y = (center-y)*(center-y)\n",
    "    return X+Y"
   ]
  },
  {
   "cell_type": "code",
   "execution_count": null,
   "metadata": {},
   "outputs": [],
   "source": [
    "def check(region_size):\n",
    "    if(region_size<region_ul and region_size>region_ll):\n",
    "            return True\n",
    "    return False"
   ]
  },
  {
   "cell_type": "code",
   "execution_count": null,
   "metadata": {},
   "outputs": [],
   "source": [
    "def centroid(contour):\n",
    "    centroidXY = cv2.moments(contour)\n",
    "    x = int(centroidXY['m10']/centroidXY['m00'])\n",
    "    y = int(centroidXY['m01']/centroidXY['m00'])\n",
    "    return x,y"
   ]
  },
  {
   "cell_type": "code",
   "execution_count": null,
   "metadata": {},
   "outputs": [],
   "source": [
    "def finalRegion(curr_contour):\n",
    "    perimeter = cv2.arcLength(curr_contour, True)\n",
    "    box = cv2.approxPolyDP(curr_contour, 0.02 * perimeter, True)\n",
    "    x , y , w, h = cv2.boundingRect(box)\n",
    "    return x, y, w, h"
   ]
  },
  {
   "cell_type": "code",
   "execution_count": null,
   "metadata": {},
   "outputs": [],
   "source": [
    "def show_images(y,X_images):\n",
    "    c = 5\n",
    "    r = 3\n",
    "    fig = plt.figure(figsize=(12, 12))\n",
    "    for i in range(1,r*c+1):\n",
    "        ax = fig.add_subplot(r,c,i)\n",
    "        if y[i] == 0:\n",
    "            ax.title.set_text('Benign')\n",
    "        else :\n",
    "            ax.title.set_text('Malignant')\n",
    "        plt.imshow(X_images[i], interpolation='nearest')\n",
    "    plt.show()"
   ]
  },
  {
   "cell_type": "code",
   "execution_count": null,
   "metadata": {},
   "outputs": [],
   "source": [
    "def preprocess(img):\n",
    "    thresh=initialPrepare(img)\n",
    "    _,contours,_ = cv2.findContours(thresh,cv2.RETR_EXTERNAL,cv2.CHAIN_APPROX_NONE)\n",
    "\n",
    "    max_val,curr_contour = 100000,contours[0]\n",
    "    for contour in contours:\n",
    "        region_size = cv2.contourArea(contour)\n",
    "        ok = check(region_size)\n",
    "        if(ok):\n",
    "            x,y = centroid(contour)\n",
    "            distance = findDist(x,y)\n",
    "            if distance < max_val:\n",
    "                curr_contour = contour\n",
    "                max_val = distance  \n",
    "    x_b ,y_b ,w ,h = finalRegion(curr_contour)\n",
    "    x_f = max(lower_bound,x_b - pad)\n",
    "    x_fb = min(upper_bound,x_b + w + pad)\n",
    "    y_f = max(lower_bound,y_b - pad)\n",
    "    y_fb = min(upper_bound,y_b + h + pad)\n",
    "\n",
    "    img = cv2.cvtColor(img,cv2.COLOR_BGR2RGB)\n",
    "    final_img = img[y_f:y_fb,x_f:x_fb]\n",
    "    final_img = cv2.resize(final_img,(224,224))\n",
    "    return final_img"
   ]
  },
  {
   "cell_type": "code",
   "execution_count": null,
   "metadata": {
    "tags": [
     "outputPrepend",
     "outputPrepend",
     "outputPrepend",
     "outputPrepend",
     "outputPrepend",
     "outputPrepend",
     "outputPrepend",
     "outputPrepend",
     "outputPrepend",
     "outputPrepend",
     "outputPrepend",
     "outputPrepend",
     "outputPrepend",
     "outputPrepend",
     "outputPrepend",
     "outputPrepend",
     "outputPrepend",
     "outputPrepend",
     "outputPrepend",
     "outputPrepend",
     "outputPrepend",
     "outputPrepend",
     "outputPrepend",
     "outputPrepend",
     "outputPrepend",
     "outputPrepend",
     "outputPrepend",
     "outputPrepend",
     "outputPrepend",
     "outputPrepend",
     "outputPrepend",
     "outputPrepend",
     "outputPrepend",
     "outputPrepend",
     "outputPrepend",
     "outputPrepend",
     "outputPrepend",
     "outputPrepend",
     "outputPrepend",
     "outputPrepend",
     "outputPrepend",
     "outputPrepend",
     "outputPrepend",
     "outputPrepend",
     "outputPrepend",
     "outputPrepend",
     "outputPrepend",
     "outputPrepend",
     "outputPrepend",
     "outputPrepend",
     "outputPrepend",
     "outputPrepend",
     "outputPrepend",
     "outputPrepend",
     "outputPrepend",
     "outputPrepend",
     "outputPrepend",
     "outputPrepend",
     "outputPrepend",
     "outputPrepend",
     "outputPrepend",
     "outputPrepend",
     "outputPrepend",
     "outputPrepend",
     "outputPrepend",
     "outputPrepend",
     "outputPrepend",
     "outputPrepend",
     "outputPrepend",
     "outputPrepend",
     "outputPrepend",
     "outputPrepend",
     "outputPrepend",
     "outputPrepend",
     "outputPrepend",
     "outputPrepend"
    ]
   },
   "outputs": [],
   "source": [
    "def prepare_train_data():\n",
    "    for category in Categories:\n",
    "        path = os.path.join(train_dir,category)\n",
    "        cat_idx = Categories.index(category)\n",
    "        for img in os.listdir(path):\n",
    "            try:\n",
    "                image = cv2.imread(os.path.join(path,img))\n",
    "                image = preprocess(image)\n",
    "                train_data.append([image,cat_idx])\n",
    "            except Exception as e:\n",
    "                pass\n",
    "prepare_train_data()"
   ]
  },
  {
   "cell_type": "code",
   "execution_count": null,
   "metadata": {},
   "outputs": [],
   "source": [
    "random.shuffle(train_data)"
   ]
  },
  {
   "cell_type": "code",
   "execution_count": null,
   "metadata": {},
   "outputs": [],
   "source": [
    "for features,labels in train_data:\n",
    "    X_train.append(features)\n",
    "    y_train.append(labels)"
   ]
  },
  {
   "cell_type": "code",
   "execution_count": null,
   "metadata": {},
   "outputs": [],
   "source": [
    "X_train = np.array(X_train).reshape(-1,shape[0],shape[1],shape[2])\n",
    "X_train = X_train/255\n",
    "y_cat_train = to_categorical(y_train,2)"
   ]
  },
  {
   "cell_type": "code",
   "execution_count": null,
   "metadata": {},
   "outputs": [],
   "source": [
    "show_images(y_train,X_train)"
   ]
  },
  {
   "cell_type": "code",
   "execution_count": null,
   "metadata": {},
   "outputs": [],
   "source": [
    "def prepare_test_data():\n",
    "    for category in Categories:\n",
    "        path = os.path.join(test_dir,category)\n",
    "        cat_idx = Categories.index(category)\n",
    "        for img in os.listdir(path):\n",
    "            try:\n",
    "                image = cv2.imread(os.path.join(path,img))\n",
    "                image = preprocess(image) \n",
    "                test_data.append([image,cat_idx])\n",
    "            except Exception as e:\n",
    "                pass\n",
    "prepare_test_data()"
   ]
  },
  {
   "cell_type": "code",
   "execution_count": null,
   "metadata": {},
   "outputs": [],
   "source": [
    "random.shuffle(test_data)"
   ]
  },
  {
   "cell_type": "code",
   "execution_count": null,
   "metadata": {},
   "outputs": [],
   "source": [
    "for features,labels in test_data:\n",
    "    X_test.append(features)\n",
    "    y_test.append(labels)"
   ]
  },
  {
   "cell_type": "code",
   "execution_count": null,
   "metadata": {},
   "outputs": [],
   "source": [
    "X_test = np.array(X_test).reshape(-1,shape[0],shape[1],shape[2])\n",
    "X_test=X_test/255\n",
    "y_cat_test = to_categorical(y_test,2)"
   ]
  },
  {
   "cell_type": "code",
   "execution_count": null,
   "metadata": {},
   "outputs": [],
   "source": [
    "show_images(y_test,X_test)"
   ]
  },
  {
   "cell_type": "code",
   "execution_count": null,
   "metadata": {},
   "outputs": [],
   "source": [
    "def train_model():\n",
    "    model = Sequential()\n",
    "    model.add(Conv2D(filters=64,kernel_size=(3,3),input_shape=(224,224,3),activation='relu'))\n",
    "    model.add(MaxPooling2D(pool_size=(2,2)))\n",
    "    model.add(Conv2D(filters=64,kernel_size=(3,3),input_shape=(224,224,3),activation='relu'))\n",
    "    model.add(MaxPooling2D(pool_size=(2,2)))\n",
    "    model.add(Conv2D(filters=64,kernel_size=(3,3),input_shape=(224,224,3),activation='relu'))\n",
    "    model.add(MaxPooling2D(pool_size=(2,2)))\n",
    "    model.add(Flatten())\n",
    "    model.add(Dense(256,activation='relu'))\n",
    "    model.add(Dense(2,activation='sigmoid'))\n",
    "    model.compile(loss='binary_crossentropy',optimizer='adam',metrics=['accuracy'])\n",
    "    model.fit(X_train,y_cat_train,epochs=5)\n",
    "    return model\n",
    "model = train_model()"
   ]
  },
  {
   "cell_type": "code",
   "execution_count": null,
   "metadata": {},
   "outputs": [],
   "source": [
    "def eval_model(model,X_test,y_cat_test):\n",
    "    model.evaluate(X_test,y_cat_test)\n",
    "eval_model(model,X_test,y_cat_test)"
   ]
  },
  {
   "cell_type": "code",
   "execution_count": null,
   "metadata": {},
   "outputs": [],
   "source": [
    "def save_model(model):\n",
    "    model.save('Desktop/jupyter/skin_cancer_det/Skin_Cancer(Classification).h5')\n",
    "save_model(model)"
   ]
  },
  {
   "cell_type": "code",
   "execution_count": 2,
   "metadata": {},
   "outputs": [],
   "source": [
    "def load_processed_model():\n",
    "    model = load_model('Desktop/jupyter/skin_cancer_det/Skin_Cancer(Classification).h5')\n",
    "    return model"
   ]
  },
  {
   "cell_type": "code",
   "execution_count": 30,
   "metadata": {
    "tags": []
   },
   "outputs": [
    {
     "name": "stderr",
     "output_type": "stream",
     "text": [
      "Exception in Tkinter callback\n",
      "Traceback (most recent call last):\n",
      "  File \"C:\\Users\\coolb\\Anaconda3\\envs\\python-cvcourse\\lib\\tkinter\\__init__.py\", line 1702, in __call__\n",
      "    return self.func(*args)\n",
      "  File \"<ipython-input-30-5323e6c4aa74>\", line 16, in Find\n",
      "    pic_label = cv2.resize(pic_label,(400,400))\n",
      "TypeError: src is not a numpy array, neither a scalar\n"
     ]
    }
   ],
   "source": [
    "root = tk.Tk()\n",
    "root.title('Skin Cancer Classification')\n",
    "root.iconbitmap(r'D:\\Photos & Videos\\Logo.ico')\n",
    "root.geometry(\"400x400\")\n",
    "canvas = Canvas(width=400, height=400, bg='black')\n",
    "canvas.pack()\n",
    "\n",
    "model = load_processed_model()\n",
    "\n",
    "def Find():\n",
    "    img_file = filedialog.askopenfilename(title='Select Image',filetypes=[(\"Image File\",'.jpg')])\n",
    "    img_display = Image.open(img_file)\n",
    "    pic = ImageTk.PhotoImage(img_display)\n",
    "    pic_label = Label(canvas,image = pic)\n",
    "    pic_label.image=pic\n",
    "    pic_label.pack()\n",
    "    res = image.load_img(img_file,target_size=(224,224))\n",
    "    res = image.img_to_array(res)\n",
    "    res = np.expand_dims(res,axis=0)\n",
    "    res = res/255\n",
    "    output = model.predict(res)\n",
    "    if(output[0][0]>output[0][1]):\n",
    "        text1=\"There is a\"\n",
    "        print(\"There is a\",output[0][0]*100,\"chance that you dont have skin cancer\")\n",
    "    else:\n",
    "        text1=\"There is a\"\n",
    "        print(\"There is a\",output[0][1]*100,\"chance that you have skin cancer\")\n",
    "openfile = tk.Button(root,text=\"Predict\",padx=10,pady=5,fg=\"black\",command = Find)\n",
    "openfile.pack()\n",
    "\n",
    "#text = tk.Text(root,height = 10,width=50)\n",
    "#text.config(state=\"normal\")\n",
    "#text.insert(tk.INSERT,text1)\n",
    "\n",
    "root.mainloop()"
   ]
  },
  {
   "cell_type": "code",
   "execution_count": null,
   "metadata": {},
   "outputs": [],
   "source": []
  }
 ],
 "metadata": {
  "file_extension": ".py",
  "kernelspec": {
   "display_name": "Python 3",
   "language": "python",
   "name": "python3"
  },
  "language_info": {
   "codemirror_mode": {
    "name": "ipython",
    "version": 3
   },
   "file_extension": ".py",
   "mimetype": "text/x-python",
   "name": "python",
   "nbconvert_exporter": "python",
   "pygments_lexer": "ipython3",
   "version": "3.7.4"
  },
  "mimetype": "text/x-python",
  "name": "python",
  "npconvert_exporter": "python",
  "pygments_lexer": "ipython3",
  "version": 3
 },
 "nbformat": 4,
 "nbformat_minor": 4
}
